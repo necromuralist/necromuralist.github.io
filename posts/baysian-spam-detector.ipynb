{
 "cells": [
  {
   "cell_type": "markdown",
   "metadata": {
    "ein.tags": [
     "worksheet-0"
    ]
   },
   "source": [
    "# Spam detection with Bayesian Networks"
   ]
  },
  {
   "cell_type": "markdown",
   "metadata": {
    "ein.tags": [
     "worksheet-0"
    ]
   },
   "source": [
    "These are my notes for the Bayesian Networks section of the udacity course on artifical intelligence."
   ]
  },
  {
   "cell_type": "code",
   "execution_count": 22,
   "metadata": {
    "autoscroll": "json-false",
    "collapsed": false,
    "ein.tags": [
     "worksheet-0"
    ]
   },
   "outputs": [],
   "source": [
    "# python standard library\n",
    "from fractions import Fraction\n",
    "import sys"
   ]
  },
  {
   "cell_type": "code",
   "execution_count": 23,
   "metadata": {
    "collapsed": true
   },
   "outputs": [],
   "source": [
    "# it turns out 'reduce' is no longer a built-in function in python 3\n",
    "if sys.version_info.major >= 3:\n",
    "    from functools import reduce"
   ]
  },
  {
   "cell_type": "code",
   "execution_count": 24,
   "metadata": {
    "autoscroll": "json-false",
    "collapsed": false,
    "ein.tags": [
     "worksheet-0"
    ]
   },
   "outputs": [
    {
     "name": "stdout",
     "output_type": "stream",
     "text": [
      "3\n"
     ]
    }
   ],
   "source": [
    "spam = 'offer is secret, click secret link, secret sports link'.split(',')\n",
    "print(len(spam))"
   ]
  },
  {
   "cell_type": "code",
   "execution_count": 25,
   "metadata": {
    "autoscroll": "json-false",
    "collapsed": false,
    "ein.tags": [
     "worksheet-0"
    ]
   },
   "outputs": [
    {
     "name": "stdout",
     "output_type": "stream",
     "text": [
      "5\n"
     ]
    }
   ],
   "source": [
    "ham = 'play sports today, went play sports, secret sports event, sports is today, sports costs money'.split(',')\n",
    "print(len(ham))"
   ]
  },
  {
   "cell_type": "markdown",
   "metadata": {
    "ein.tags": [
     "worksheet-0"
    ]
   },
   "source": [
    "The terms have to be changed to be either all plural or all singular. In this case I changed 'sport' to 'sports' where needed."
   ]
  },
  {
   "cell_type": "markdown",
   "metadata": {
    "ein.tags": [
     "worksheet-0"
    ]
   },
   "source": [
    "## The SpamDetector classes"
   ]
  },
  {
   "cell_type": "markdown",
   "metadata": {
    "ein.tags": [
     "worksheet-0"
    ]
   },
   "source": [
    "I originally implemented everything as functions, but decided it was too scattered and created these after the fact, which is why there's all the duplication below. I left the old code to validate these classes."
   ]
  },
  {
   "cell_type": "markdown",
   "metadata": {
    "ein.tags": [
     "worksheet-0"
    ]
   },
   "source": [
    "## The MailBag"
   ]
  },
  {
   "cell_type": "markdown",
   "metadata": {
    "ein.tags": [
     "worksheet-0"
    ]
   },
   "source": [
    "This class holds either spam or ham. It actually holds both but the idea is one of them is the real type of interest."
   ]
  },
  {
   "cell_type": "code",
   "execution_count": 26,
   "metadata": {
    "autoscroll": "json-false",
    "collapsed": false,
    "ein.tags": [
     "worksheet-0"
    ]
   },
   "outputs": [],
   "source": [
    "class MailBag(object):\n",
    "    \"\"\"\n",
    "    A place to put spam or ham\n",
    "    \"\"\"\n",
    "    def __init__(self, mail, other_mail, k=0):\n",
    "        \"\"\"\n",
    "        :param:\n",
    "         - `mail`: list of example mail\n",
    "         - `other_mail`: mail not in this class (e.g. spam if this is ham)\n",
    "         - `k`: Laplace smoothing constant\n",
    "        \"\"\"\n",
    "        self.mail = mail\n",
    "        self.other_mail = other_mail\n",
    "        self.k = k\n",
    "        \n",
    "        self._bag = None\n",
    "        self._probability = None\n",
    "        self._vocabulary_size = None\n",
    "        self._sample_size = None\n",
    "        return\n",
    "\n",
    "    @property\n",
    "    def vocabulary_size(self):\n",
    "        \"\"\"\n",
    "        :return: count of unique words in all examples\n",
    "        \"\"\"\n",
    "        if self._vocabulary_size is None:\n",
    "            self._vocabulary_size = len(set(self.bag) | set(self.bag_boy(self.other_mail)))\n",
    "        return self._vocabulary_size\n",
    "\n",
    "    @property\n",
    "    def bag(self):\n",
    "        \"\"\"\n",
    "        :return: list of words in `mail`\n",
    "        \"\"\"\n",
    "        if self._bag is None:\n",
    "            self._bag = self.bag_boy(self.mail)\n",
    "        return self._bag\n",
    "\n",
    "    @property\n",
    "    def sample_size(self):\n",
    "        \"\"\"\n",
    "        :return: count of mail in both spam and not spam\n",
    "        \"\"\"\n",
    "        if self._sample_size is None:\n",
    "            self._sample_size = len(self.mail + self.other_mail)\n",
    "        return self._sample_size\n",
    "    \n",
    "    @property\n",
    "    def probability(self):\n",
    "        \"\"\"\n",
    "        :return: count of this mail/total sample size\n",
    "        \"\"\"\n",
    "        if self._probability is None:\n",
    "            SPAM_AND_HAM = 2\n",
    "            self._probability = self.l_probability(len(self.mail),\n",
    "                                                   len(self.mail) + len(self.other_mail),\n",
    "                                                   SPAM_AND_HAM)\n",
    "        return self._probability\n",
    "\n",
    "    def bag_boy(self, lines):\n",
    "        \"\"\"\n",
    "        :param:\n",
    "         - `lines`: list of lines\n",
    "\n",
    "        :return: list of words taken from the lines\n",
    "        \"\"\"\n",
    "        tokenized = (line.split() for line in lines)\n",
    "        bag = []\n",
    "        for tokens in tokenized:\n",
    "            for token in tokens:\n",
    "                bag.append(token)\n",
    "        return bag\n",
    "\n",
    "    def l_probability(self, event_size, sample_size, classes):\n",
    "        \"\"\"\n",
    "        :param:\n",
    "         - `event_size`: count of events of interest\n",
    "         - `sample_size`: count of all events\n",
    "         - `classes`: count of all classes of events\n",
    "\n",
    "        :return: probability with Laplace Smoothing\n",
    "        \"\"\"        \n",
    "        return Fraction(event_size + self.k,\n",
    "                        sample_size + classes * self.k)\n",
    "\n",
    "    def p_message(self, message):\n",
    "        \"\"\"\n",
    "        :param:\n",
    "         - `message`: line of mail\n",
    "\n",
    "        :return: p(message|this class)\n",
    "        \"\"\"\n",
    "        probabilities = (self.p_word(word) for word in message.split())\n",
    "        return reduce(lambda x, y: x * y, probabilities) * self.probability\n",
    "        \n",
    "    def p_word(self, word):\n",
    "        \"\"\"\n",
    "        :param:\n",
    "         - `word`: string to check for\n",
    "        :return: fraction of word occurence in bag\n",
    "        \"\"\"\n",
    "        return self.l_probability(self.word_count(word), len(self.bag), self.vocabulary_size)\n",
    "    \n",
    "    def word_count(self, word):\n",
    "        \"\"\"\n",
    "        :param:\n",
    "         - `word`: string to check for\n",
    "        :return: number of times word appears in bag\n",
    "        \"\"\"\n",
    "        return sum((1 for token in self.bag if token == word))"
   ]
  },
  {
   "cell_type": "markdown",
   "metadata": {
    "ein.tags": [
     "worksheet-0"
    ]
   },
   "source": [
    "## SpamDetector"
   ]
  },
  {
   "cell_type": "code",
   "execution_count": 27,
   "metadata": {
    "autoscroll": "json-false",
    "collapsed": false,
    "ein.tags": [
     "worksheet-0"
    ]
   },
   "outputs": [],
   "source": [
    "class SpamDetector(object):\n",
    "    \"\"\"\n",
    "    A bayesian network spam detector\n",
    "    \"\"\"\n",
    "    def __init__(self, spam, ham, k=0):\n",
    "        \"\"\"\n",
    "        :param:\n",
    "         - `spam`: list of example spam lines\n",
    "         - `ham`: list of example ham_lines\n",
    "         - `k`: laplace smoothing constant\n",
    "        \"\"\"\n",
    "        self.spam = MailBag(mail=spam, k=k, other_mail=ham)\n",
    "        self.ham = MailBag(mail=ham, k=k, other_mail=spam)\n",
    "        return\n",
    "\n",
    "    def p_spam_given_message(self, message):\n",
    "        \"\"\"\n",
    "        :param:\n",
    "         - `message`: line to check if it's spam\n",
    "        :return: probability that it's spam\n",
    "        \"\"\"        \n",
    "        p_message_given_spam = self.spam.p_message(message) \n",
    "        return p_message_given_spam/ (p_message_given_spam +\n",
    "                                      self.ham.p_message(message))\n",
    "\n",
    "# leave this in the same cell so updating the class updates the instance\n",
    "detector = SpamDetector(spam=spam, ham=ham)\n",
    "l_detector = SpamDetector(spam=spam, ham=ham, k=1)"
   ]
  },
  {
   "cell_type": "markdown",
   "metadata": {
    "ein.tags": [
     "worksheet-0"
    ]
   },
   "source": [
    "## What is the size of the vocabulary?"
   ]
  },
  {
   "cell_type": "code",
   "execution_count": 28,
   "metadata": {
    "autoscroll": "json-false",
    "collapsed": false,
    "ein.tags": [
     "worksheet-0"
    ]
   },
   "outputs": [],
   "source": [
    "def bagger(mail):\n",
    "    \"\"\"\n",
    "    converts list of lines into list of tokens\n",
    "    \n",
    "    :param:\n",
    "     - `mail`: list of space-separated lines\n",
    "    :return: list of words in `mail`\n",
    "    \"\"\"\n",
    "    mail_tokenized = (line.split() for line in mail)\n",
    "    mail_bag = []\n",
    "    for tokens in mail_tokenized:\n",
    "        for token in tokens:\n",
    "            mail_bag.append(token)\n",
    "    return mail_bag\n",
    "\n",
    "spam_bag = bagger(spam)\n",
    "ham_bag = bagger(ham)\n",
    "            "
   ]
  },
  {
   "cell_type": "code",
   "execution_count": 29,
   "metadata": {
    "autoscroll": "json-false",
    "collapsed": false,
    "ein.tags": [
     "worksheet-0"
    ]
   },
   "outputs": [],
   "source": [
    "def assert_equal(expected, actual, description):\n",
    "    assert expected == actual, \\\n",
    "        \"'{2}'\\nExpected: {0}, Actual: {1}\".format(expected, actual,\n",
    "                                                   description)\n"
   ]
  },
  {
   "cell_type": "code",
   "execution_count": 30,
   "metadata": {
    "autoscroll": "json-false",
    "collapsed": false,
    "ein.tags": [
     "worksheet-0"
    ]
   },
   "outputs": [
    {
     "name": "stdout",
     "output_type": "stream",
     "text": [
      "12\n"
     ]
    }
   ],
   "source": [
    "vocabulary_list = set(spam_bag) | set(ham_bag)\n",
    "vocabulary = len(set(spam_bag) | set(ham_bag))\n",
    "assert_equal(spam_bag, detector.spam.bag, 'check spam bags')\n",
    "assert_equal(ham_bag, detector.ham.bag, 'ham bags')\n",
    "assert_equal(vocabulary, detector.spam.vocabulary_size, 'vocabulary size')\n",
    "print(vocabulary)"
   ]
  },
  {
   "cell_type": "markdown",
   "metadata": {
    "ein.tags": [
     "worksheet-0"
    ]
   },
   "source": [
    "# what is the probability that a piece of mail is spam?"
   ]
  },
  {
   "cell_type": "code",
   "execution_count": 31,
   "metadata": {
    "autoscroll": "json-false",
    "collapsed": false,
    "ein.tags": [
     "worksheet-0"
    ]
   },
   "outputs": [
    {
     "name": "stdout",
     "output_type": "stream",
     "text": [
      "3/8\n"
     ]
    }
   ],
   "source": [
    "mail_count = len(ham) + len(spam)\n",
    "assert_equal(mail_count, detector.spam.sample_size, 'mail count')\n",
    "p_spam = Fraction(len(spam), mail_count)\n",
    "assert_equal(p_spam, Fraction(3, 8), 'p-spam known')\n",
    "assert_equal(p_spam, detector.spam.probability, 'p-spam detector')\n",
    "print(p_spam)"
   ]
  },
  {
   "cell_type": "markdown",
   "metadata": {
    "ein.tags": [
     "worksheet-0"
    ]
   },
   "source": [
    "## what is p('secret'| spam)?"
   ]
  },
  {
   "cell_type": "code",
   "execution_count": 32,
   "metadata": {
    "autoscroll": "json-false",
    "collapsed": false,
    "ein.tags": [
     "worksheet-0"
    ]
   },
   "outputs": [],
   "source": [
    "def word_count(bag, word):\n",
    "    \"\"\"\n",
    "    count the number of times a word is in the bag\n",
    "\n",
    "    :param:\n",
    "     - `bag`: collection of words\n",
    "     - `word`: word to count\n",
    "    :return: number of times word appears in bag\n",
    "    \"\"\"\n",
    "    return sum((1 for token in bag if token == word))"
   ]
  },
  {
   "cell_type": "code",
   "execution_count": 33,
   "metadata": {
    "autoscroll": "json-false",
    "collapsed": false,
    "ein.tags": [
     "worksheet-0"
    ]
   },
   "outputs": [],
   "source": [
    "def p_word(bag, word, k=0, sample_space=12):\n",
    "    \"\"\"\n",
    "    fraction of times word appears in the bag\n",
    "\n",
    "    :param:\n",
    "     - `bag`: collection of words\n",
    "     - `word`: word to count in bag\n",
    "     - `k`: laplace smoothing constant\n",
    "     - `sample_space`: total number of words in vocabulary\n",
    "    :return: Fraction of total bag that is word\n",
    "    \"\"\"\n",
    "    return Fraction(word_count(bag, word) + k, len(bag) + k * sample_space)"
   ]
  },
  {
   "cell_type": "code",
   "execution_count": 34,
   "metadata": {
    "autoscroll": "json-false",
    "collapsed": false,
    "ein.tags": [
     "worksheet-0"
    ]
   },
   "outputs": [
    {
     "name": "stdout",
     "output_type": "stream",
     "text": [
      "1/3\n"
     ]
    }
   ],
   "source": [
    "p_secret_given_spam = p_word(spam_bag, 'secret')\n",
    "assert p_secret_given_spam == Fraction(3, 9)\n",
    "assert_equal(p_secret_given_spam, detector.spam.p_word('secret'),\n",
    "             'secret given spam')\n",
    "print(p_secret_given_spam)"
   ]
  },
  {
   "cell_type": "markdown",
   "metadata": {
    "ein.tags": [
     "worksheet-0"
    ]
   },
   "source": [
    "## what is p('secret'| ham)?"
   ]
  },
  {
   "cell_type": "code",
   "execution_count": 35,
   "metadata": {
    "autoscroll": "json-false",
    "collapsed": false,
    "ein.tags": [
     "worksheet-0"
    ]
   },
   "outputs": [
    {
     "name": "stdout",
     "output_type": "stream",
     "text": [
      "1/15\n"
     ]
    }
   ],
   "source": [
    "p_secret_given_ham = p_word(ham_bag, 'secret')\n",
    "assert p_secret_given_ham == Fraction(1, 15)\n",
    "assert_equal(p_secret_given_ham, detector.ham.p_word('secret'), 'p(secret|ham)')\n",
    "print(p_secret_given_ham)\n"
   ]
  },
  {
   "cell_type": "markdown",
   "metadata": {
    "ein.tags": [
     "worksheet-0"
    ]
   },
   "source": [
    "## You get a message with one word - 'sports', what is p(spam|'sports')?"
   ]
  },
  {
   "cell_type": "code",
   "execution_count": 36,
   "metadata": {
    "autoscroll": "json-false",
    "collapsed": false,
    "ein.tags": [
     "worksheet-0"
    ]
   },
   "outputs": [
    {
     "data": {
      "text/latex": [
       "$p(spam|`sports') = \\frac{p(`sports' | spam)p(spam)}{p(`sports')}$"
      ],
      "text/plain": [
       "<IPython.core.display.Latex object>"
      ]
     },
     "metadata": {},
     "output_type": "display_data"
    }
   ],
   "source": [
    "%%latex\n",
    "$p(spam|`sports') = \\frac{p(`sports' | spam)p(spam)}{p(`sports')}$"
   ]
  },
  {
   "cell_type": "code",
   "execution_count": 37,
   "metadata": {
    "autoscroll": "json-false",
    "collapsed": false,
    "ein.tags": [
     "worksheet-0"
    ]
   },
   "outputs": [
    {
     "name": "stdout",
     "output_type": "stream",
     "text": [
      "1/9\n"
     ]
    }
   ],
   "source": [
    "p_sports_given_spam = p_word(spam_bag, 'sports')\n",
    "assert p_sports_given_spam == Fraction(1, 9)\n",
    "assert_equal(p_sports_given_spam, detector.spam.p_word('sports'),\n",
    "             'p(sports|spam)')\n",
    "print(p_sports_given_spam)\n"
   ]
  },
  {
   "cell_type": "code",
   "execution_count": 38,
   "metadata": {
    "autoscroll": "json-false",
    "collapsed": false,
    "ein.tags": [
     "worksheet-0"
    ]
   },
   "outputs": [],
   "source": [
    "p_sports_given_ham = p_word(ham_bag, 'sports')\n",
    "expected = Fraction(1, 3)\n",
    "assert p_sports_given_ham == expected\n",
    "assert_equal(p_sports_given_ham, detector.ham.p_word('sports'),\n",
    "             'p(sports|ham)')"
   ]
  },
  {
   "cell_type": "code",
   "execution_count": 39,
   "metadata": {
    "autoscroll": "json-false",
    "collapsed": false,
    "ein.tags": [
     "worksheet-0"
    ]
   },
   "outputs": [
    {
     "name": "stdout",
     "output_type": "stream",
     "text": [
      "5/8\n"
     ]
    }
   ],
   "source": [
    "p_ham = Fraction(len(ham), mail_count)\n",
    "assert_equal(p_ham, detector.ham.probability, 'p(ham)')\n",
    "print(p_ham)"
   ]
  },
  {
   "cell_type": "code",
   "execution_count": 40,
   "metadata": {
    "autoscroll": "json-false",
    "collapsed": false,
    "ein.tags": [
     "worksheet-0"
    ]
   },
   "outputs": [
    {
     "name": "stdout",
     "output_type": "stream",
     "text": [
      "1/2\n"
     ]
    }
   ],
   "source": [
    "p_sports = Fraction(word_count(spam_bag, 'sports') + word_count(ham_bag, 'sports'), vocabulary)\n",
    "print(p_sports)"
   ]
  },
  {
   "cell_type": "code",
   "execution_count": 41,
   "metadata": {
    "autoscroll": "json-false",
    "collapsed": false,
    "ein.tags": [
     "worksheet-0"
    ]
   },
   "outputs": [
    {
     "name": "stdout",
     "output_type": "stream",
     "text": [
      "1/6\n"
     ]
    }
   ],
   "source": [
    "p_spam_given_sports = (p_sports_given_spam * p_spam)/(p_sports_given_spam * p_spam + p_sports_given_ham * p_ham)\n",
    "assert p_spam_given_sports == Fraction(3, 18)\n",
    "assert_equal(p_spam_given_sports, detector.p_spam_given_message('sports'),\n",
    "             'p(spam|sports)')\n",
    "print(p_spam_given_sports)"
   ]
  },
  {
   "cell_type": "markdown",
   "metadata": {
    "ein.tags": [
     "worksheet-0"
    ]
   },
   "source": [
    "## Given the message 'secret is secret', what is the probability that it is spam?"
   ]
  },
  {
   "cell_type": "code",
   "execution_count": 42,
   "metadata": {
    "autoscroll": "json-false",
    "collapsed": false,
    "ein.tags": [
     "worksheet-0"
    ]
   },
   "outputs": [
    {
     "data": {
      "text/latex": [
       "$p(spam|message) = \\frac{p(message|spam)p(spam}{p(message|spam)p(spam) + p(message|ham)p(ham)}$"
      ],
      "text/plain": [
       "<IPython.core.display.Latex object>"
      ]
     },
     "metadata": {},
     "output_type": "display_data"
    }
   ],
   "source": [
    "%%latex\n",
    "$p(spam|message) = \\frac{p(message|spam)p(spam}{p(message|spam)p(spam) + p(message|ham)p(ham)}$"
   ]
  },
  {
   "cell_type": "markdown",
   "metadata": {
    "ein.tags": [
     "worksheet-0"
    ]
   },
   "source": [
    "So, the question here is, how do you calculate the probabilities for the entire message instead of for a single word? The answer turns out to be to multiply the probability for each of the words together - so  p('secret is secret'| spam) is the product p('secret'|spam) x p('is'|spam) x p('secret'|spam)"
   ]
  },
  {
   "cell_type": "code",
   "execution_count": 43,
   "metadata": {
    "autoscroll": "json-false",
    "collapsed": false,
    "ein.tags": [
     "worksheet-0"
    ]
   },
   "outputs": [
    {
     "data": {
      "text/latex": [
       "$p(spam|sis) = \\frac{p(s|spam)p(i|spam)p(s|spam)p(spam)}{p(s|spam)p(i|spam)p(s|spam)p(spam) + p(s|ham)p(i|ham)p(s|ham)p(ham)}$"
      ],
      "text/plain": [
       "<IPython.core.display.Latex object>"
      ]
     },
     "metadata": {},
     "output_type": "display_data"
    }
   ],
   "source": [
    "%%latex\n",
    "$p(spam|sis) = \\frac{p(s|spam)p(i|spam)p(s|spam)p(spam)}{p(s|spam)p(i|spam)p(s|spam)p(spam) + p(s|ham)p(i|ham)p(s|ham)p(ham)}$"
   ]
  },
  {
   "cell_type": "markdown",
   "metadata": {
    "ein.tags": [
     "worksheet-0"
    ]
   },
   "source": [
    "Where s = 'secret', i = 'is' and sis='secret is secret'."
   ]
  },
  {
   "cell_type": "code",
   "execution_count": 44,
   "metadata": {
    "autoscroll": "json-false",
    "collapsed": false,
    "ein.tags": [
     "worksheet-0"
    ]
   },
   "outputs": [],
   "source": [
    "p_is_given_spam = p_word(spam_bag, 'is')\n",
    "assert_equal(p_is_given_spam, detector.spam.p_word('is'), 'p(is|spam)')\n",
    "p_is_given_ham = p_word(ham_bag, 'is')\n",
    "assert_equal(p_is_given_ham, detector.ham.p_word('is'), 'p(is|ham)')"
   ]
  },
  {
   "cell_type": "code",
   "execution_count": 45,
   "metadata": {
    "autoscroll": "json-false",
    "collapsed": false,
    "ein.tags": [
     "worksheet-0"
    ]
   },
   "outputs": [],
   "source": [
    "def p_message_given_class(message, bag, class_probability, k=0, sample_space=12):\n",
    "    \"\"\"\n",
    "    :param:\n",
    "     - `message`: string of words\n",
    "     - `bag`: bag of words\n",
    "     - `class_probability`: probability for this class (e.g. p(spam))\n",
    "     - `k`: Laplace smoothing constant\n",
    "     - `sample_space`: Size of the vocabulary\n",
    "    :return: p(message|classification) * p(classification)\n",
    "    \"\"\"\n",
    "    probabilities = (p_word(bag, word, k=k, sample_space=sample_space) for word in message.split())\n",
    "    probability = class_probability\n",
    "    for p in probabilities:\n",
    "        probability *= p\n",
    "    return probability"
   ]
  },
  {
   "cell_type": "code",
   "execution_count": 46,
   "metadata": {
    "autoscroll": "json-false",
    "collapsed": false,
    "ein.tags": [
     "worksheet-0"
    ]
   },
   "outputs": [],
   "source": [
    "def p_spam_given_message(message, k=0, sample_space=12):\n",
    "    \"\"\"\n",
    "    :param:\n",
    "     - `message`: string of words\n",
    "     - `k`: Laplace Smoothing constant\n",
    "     - `sample_space`: total count of words in spam/ham bags\n",
    "    :return: probability message is spam\n",
    "    \"\"\"\n",
    "    spam_probability = p_spam if k == 0 else lp_spam\n",
    "    ham_probability = p_ham if k == 0 else lp_ham\n",
    "    p_m_given_spam = p_message_given_class(message, spam_bag, spam_probability, k=k, sample_space=sample_space)\n",
    "    p_m_given_ham = p_message_given_class(message, ham_bag, ham_probability, k=k, sample_space=sample_space)\n",
    "    return p_m_given_spam/(p_m_given_spam + p_m_given_ham)"
   ]
  },
  {
   "cell_type": "code",
   "execution_count": 47,
   "metadata": {
    "autoscroll": "json-false",
    "collapsed": false,
    "ein.tags": [
     "worksheet-0"
    ]
   },
   "outputs": [
    {
     "name": "stdout",
     "output_type": "stream",
     "text": [
      "25/26\n"
     ]
    }
   ],
   "source": [
    "message = 'secret is secret'\n",
    "expected = Fraction(25, 26)\n",
    "p_sis_given_spam = (p_secret_given_spam * p_is_given_spam * p_secret_given_spam\n",
    "                    * p_spam)\n",
    "assert p_message_given_class(message, spam_bag, p_spam) == p_sis_given_spam\n",
    "assert_equal(p_sis_given_spam, detector.spam.p_message(message), 'p(sis|spam)')\n",
    "\n",
    "p_sis_given_ham = p_secret_given_ham * p_is_given_ham * p_secret_given_ham * p_ham\n",
    "assert p_message_given_class(message, ham_bag, p_ham) == p_sis_given_ham\n",
    "assert_equal(p_sis_given_ham, detector.ham.p_message(message), 'p(sis|ham)')\n",
    "\n",
    "p_spam_given_sis = p_sis_given_spam / (p_sis_given_spam + p_sis_given_ham)\n",
    "assert_equal(p_spam_given_sis, detector.p_spam_given_message(message), 'p(spam|sis)')\n",
    "assert p_spam_given_message(message) == p_spam_given_sis\n",
    "assert p_spam_given_sis == expected\n",
    "print(p_spam_given_sis)"
   ]
  },
  {
   "cell_type": "markdown",
   "metadata": {
    "ein.tags": [
     "worksheet-0"
    ]
   },
   "source": [
    "## What is the probability that \"today is secret\" is spam?"
   ]
  },
  {
   "cell_type": "code",
   "execution_count": 48,
   "metadata": {
    "autoscroll": "json-false",
    "collapsed": false,
    "ein.tags": [
     "worksheet-0"
    ]
   },
   "outputs": [
    {
     "data": {
      "text/latex": [
       "$p(spam|tis) = \\frac{p(t|spam)p(i|spam)p(s|spam)p(spam)}{p(t|spam)p(i|spam)p(s|spam)p(spam) + p(t|ham)p(i|ham)p(s|ham)p(ham)}$"
      ],
      "text/plain": [
       "<IPython.core.display.Latex object>"
      ]
     },
     "metadata": {},
     "output_type": "display_data"
    }
   ],
   "source": [
    "%%latex\n",
    "$p(spam|tis) = \\frac{p(t|spam)p(i|spam)p(s|spam)p(spam)}{p(t|spam)p(i|spam)p(s|spam)p(spam) + p(t|ham)p(i|ham)p(s|ham)p(ham)}$"
   ]
  },
  {
   "cell_type": "code",
   "execution_count": 49,
   "metadata": {
    "autoscroll": "json-false",
    "collapsed": false,
    "ein.tags": [
     "worksheet-0"
    ]
   },
   "outputs": [
    {
     "name": "stdout",
     "output_type": "stream",
     "text": [
      "0\n"
     ]
    }
   ],
   "source": [
    "tis = 'today is secret'\n",
    "p_spam_given_tis = p_spam_given_message(tis)\n",
    "print(p_spam_given_tis)\n",
    "assert p_spam_given_tis == 0\n",
    "assert_equal(p_spam_given_tis, detector.p_spam_given_message(tis),\n",
    "             'p(spam|tis)')"
   ]
  },
  {
   "cell_type": "code",
   "execution_count": 50,
   "metadata": {
    "autoscroll": "json-false",
    "collapsed": false,
    "ein.tags": [
     "worksheet-0"
    ]
   },
   "outputs": [
    {
     "data": {
      "text/plain": [
       "False"
      ]
     },
     "execution_count": 50,
     "metadata": {},
     "output_type": "execute_result"
    }
   ],
   "source": [
    "'today' in spam_bag"
   ]
  },
  {
   "cell_type": "markdown",
   "metadata": {
    "ein.tags": [
     "worksheet-0"
    ]
   },
   "source": [
    "Since one of the words isn't in the spam bag of words, the numerator is going to be 0 (p('today'|spam) = 0) so the probability overall is 0."
   ]
  },
  {
   "cell_type": "markdown",
   "metadata": {
    "ein.tags": [
     "worksheet-0"
    ]
   },
   "source": [
    "# Laplace Smoothing"
   ]
  },
  {
   "cell_type": "markdown",
   "metadata": {
    "ein.tags": [
     "worksheet-0"
    ]
   },
   "source": [
    "When a single missing word drops the probability to 0, this means your model is overfitting the data. To get around this Laplace Smoothing is used."
   ]
  },
  {
   "cell_type": "code",
   "execution_count": 51,
   "metadata": {
    "autoscroll": "json-false",
    "collapsed": false,
    "ein.tags": [
     "worksheet-0"
    ]
   },
   "outputs": [
    {
     "data": {
      "text/latex": [
       "$p(s) = \\frac{s_{count} + k}{total_{count} + k * |classes|}$"
      ],
      "text/plain": [
       "<IPython.core.display.Latex object>"
      ]
     },
     "metadata": {},
     "output_type": "display_data"
    }
   ],
   "source": [
    "%%latex\n",
    "$p(s) = \\frac{s_{count} + k}{total_{count} + k * |classes|}$"
   ]
  },
  {
   "cell_type": "markdown",
   "metadata": {
    "ein.tags": [
     "worksheet-0"
    ]
   },
   "source": [
    "let *k = 1*.\n",
    "\n",
    "*What is the probability that a message is spam if you have 1 example message and it's spam?*"
   ]
  },
  {
   "cell_type": "code",
   "execution_count": 52,
   "metadata": {
    "autoscroll": "json-false",
    "collapsed": false,
    "ein.tags": [
     "worksheet-0"
    ]
   },
   "outputs": [],
   "source": [
    "def l_probability(class_count, total_count, k=1, classes=2):\n",
    "    \"\"\"\n",
    "    :param:\n",
    "     - `class_count`: size of event space\n",
    "     - `total_count`: size of sample space\n",
    "     - `k`: constant to prevent 0 probability\n",
    "     - `classes`: total number of events\n",
    "    :return: probability of class_count with Laplace Smoothing\n",
    "    \"\"\"\n",
    "    return Fraction(class_count + k, total_count + classes * k)"
   ]
  },
  {
   "cell_type": "code",
   "execution_count": 53,
   "metadata": {
    "autoscroll": "json-false",
    "collapsed": false,
    "ein.tags": [
     "worksheet-0"
    ]
   },
   "outputs": [],
   "source": [
    "k = 1\n",
    "# classes = spam, ham\n",
    "number_of_classes = 2"
   ]
  },
  {
   "cell_type": "code",
   "execution_count": 54,
   "metadata": {
    "autoscroll": "json-false",
    "collapsed": false,
    "ein.tags": [
     "worksheet-0"
    ]
   },
   "outputs": [
    {
     "name": "stdout",
     "output_type": "stream",
     "text": [
      "2/3\n"
     ]
    }
   ],
   "source": [
    "messages = 1\n",
    "spam_messages = 1\n",
    "actual = Fraction(spam_messages + k, messages + number_of_classes * k)\n",
    "assert actual == Fraction(2, 3)\n",
    "                            \n",
    "print(actual)"
   ]
  },
  {
   "cell_type": "markdown",
   "metadata": {
    "ein.tags": [
     "worksheet-0"
    ]
   },
   "source": [
    "*What if you have 10 messages and 6 are spam?*"
   ]
  },
  {
   "cell_type": "code",
   "execution_count": 55,
   "metadata": {
    "autoscroll": "json-false",
    "collapsed": false,
    "ein.tags": [
     "worksheet-0"
    ]
   },
   "outputs": [
    {
     "name": "stdout",
     "output_type": "stream",
     "text": [
      "7/12\n"
     ]
    }
   ],
   "source": [
    "messages, spam_messages = 10, 6\n",
    "actual = l_probability(spam_messages, messages, k, number_of_classes)\n",
    "expected = Fraction(spam_messages + k, messages + number_of_classes * k)\n",
    "assert actual == expected\n",
    "print(actual)\n"
   ]
  },
  {
   "cell_type": "markdown",
   "metadata": {
    "ein.tags": [
     "worksheet-0"
    ]
   },
   "source": [
    "*What if you have 100 messages and 60 are spam?*"
   ]
  },
  {
   "cell_type": "code",
   "execution_count": 56,
   "metadata": {
    "autoscroll": "json-false",
    "collapsed": false,
    "ein.tags": [
     "worksheet-0"
    ]
   },
   "outputs": [
    {
     "name": "stdout",
     "output_type": "stream",
     "text": [
      "61/102\n"
     ]
    }
   ],
   "source": [
    "messages, spam_messages = 100, 60\n",
    "print(l_probability(spam_messages, messages, k, number_of_classes))"
   ]
  },
  {
   "cell_type": "markdown",
   "metadata": {
    "ein.tags": [
     "worksheet-0"
    ]
   },
   "source": [
    "## spam/ham with Laplace Smoothing"
   ]
  },
  {
   "cell_type": "markdown",
   "metadata": {
    "ein.tags": [
     "worksheet-0"
    ]
   },
   "source": [
    "*What are the probabilities that a message is spam or ham with k=1?*"
   ]
  },
  {
   "cell_type": "code",
   "execution_count": 57,
   "metadata": {
    "autoscroll": "json-false",
    "collapsed": false,
    "ein.tags": [
     "worksheet-0"
    ]
   },
   "outputs": [
    {
     "name": "stdout",
     "output_type": "stream",
     "text": [
      "2/5\n",
      "3/5\n"
     ]
    }
   ],
   "source": [
    "lp_spam = l_probability(total_count=mail_count, class_count=len(spam))\n",
    "assert_equal(lp_spam, l_detector.spam.probability, 'p(spam)')\n",
    "lp_ham = l_probability(total_count=mail_count, class_count=len(ham))\n",
    "assert_equal(lp_ham, l_detector.ham.probability, 'p(ham)')\n",
    "print(lp_spam)\n",
    "print(lp_ham)"
   ]
  },
  {
   "cell_type": "markdown",
   "metadata": {
    "ein.tags": [
     "worksheet-0"
    ]
   },
   "source": [
    "*What are p('today'|spam) and p('today'|ham)?*"
   ]
  },
  {
   "cell_type": "markdown",
   "metadata": {
    "ein.tags": [
     "worksheet-0"
    ]
   },
   "source": [
    "In this case the class-count isn't 2 (for spam or ham) but 12, for the total number of words in the vocabulary. "
   ]
  },
  {
   "cell_type": "code",
   "execution_count": 58,
   "metadata": {
    "autoscroll": "json-false",
    "collapsed": false,
    "ein.tags": [
     "worksheet-0"
    ]
   },
   "outputs": [
    {
     "name": "stdout",
     "output_type": "stream",
     "text": [
      "1/21\n"
     ]
    }
   ],
   "source": [
    "print(p_word(spam_bag, 'today', k=1, sample_space=vocabulary))"
   ]
  },
  {
   "cell_type": "code",
   "execution_count": 59,
   "metadata": {
    "autoscroll": "json-false",
    "collapsed": false,
    "ein.tags": [
     "worksheet-0"
    ]
   },
   "outputs": [
    {
     "name": "stdout",
     "output_type": "stream",
     "text": [
      "p(today|spam) = 1/21\n",
      "p(today|ham) = 1/9\n"
     ]
    }
   ],
   "source": [
    "lp_today_given_spam = l_probability(total_count=len(spam_bag),\n",
    "                                    class_count=word_count(spam_bag, 'today'),\n",
    "                                    classes=vocabulary)\n",
    "assert_equal(lp_today_given_spam, l_detector.spam.p_word('today'), 'p(today|spam)')\n",
    "lp_today_given_ham = l_probability(total_count=len(ham_bag),\n",
    "                                   class_count=word_count(ham_bag, 'today'),\n",
    "                                   classes=vocabulary\n",
    ")\n",
    "assert_equal(lp_today_given_ham, l_detector.ham.p_word('today'),\n",
    "             'p(today|ham)')\n",
    "assert lp_today_given_spam == Fraction(1, 21)\n",
    "assert lp_today_given_ham == Fraction(1, 9)\n",
    "print('p(today|spam) = {0}'.format(lp_today_given_spam))\n",
    "print('p(today|ham) = {0}'.format(lp_today_given_ham))"
   ]
  },
  {
   "cell_type": "markdown",
   "metadata": {
    "ein.tags": [
     "worksheet-0"
    ]
   },
   "source": [
    "## What is p(spam|m) if m = 'today is secret' and k=1?"
   ]
  },
  {
   "cell_type": "code",
   "execution_count": 60,
   "metadata": {
    "autoscroll": "json-false",
    "collapsed": false,
    "ein.tags": [
     "worksheet-0"
    ]
   },
   "outputs": [
    {
     "name": "stdout",
     "output_type": "stream",
     "text": [
      "324/667\n"
     ]
    }
   ],
   "source": [
    "tis = 'today is secret'\n",
    "lp_is_given_spam = p_word(spam_bag, 'is', k=1, sample_space=vocabulary)\n",
    "assert_equal(lp_is_given_spam, l_detector.spam.p_word('is'), 'p(is|spam)')\n",
    "\n",
    "lp_is_given_ham = p_word(ham_bag, 'is', k=1, sample_space=vocabulary)\n",
    "assert_equal(lp_is_given_ham, l_detector.ham.p_word('is'), 'p(is|ham)')\n",
    "\n",
    "lp_secret_given_spam = p_word(spam_bag, 'secret', k=1, sample_space=vocabulary)\n",
    "assert_equal(lp_secret_given_spam, l_detector.spam.p_word('secret'), 'p(secret|spam)')\n",
    "\n",
    "lp_secret_given_ham = p_word(ham_bag, 'secret', k=1, sample_space=vocabulary)\n",
    "assert_equal(lp_secret_given_ham, l_detector.ham.p_word('secret'), 'p(secret|ham)')\n",
    "\n",
    "lp_tis_given_spam = lp_today_given_spam * lp_is_given_spam * lp_secret_given_spam * lp_spam\n",
    "lp_tis_given_ham =  lp_today_given_ham * lp_is_given_ham * lp_secret_given_ham * lp_ham\n",
    "lp_spam_given_tis = Fraction(lp_tis_given_spam, lp_tis_given_spam + lp_tis_given_ham)\n",
    "\n",
    "assert_equal(lp_tis_given_spam, l_detector.spam.p_message(tis), 'p(tis|spam)')\n",
    "assert_equal(lp_tis_given_ham, l_detector.ham.p_message(tis), 'p(tis|ham)')\n",
    "assert_equal(lp_spam_given_tis, l_detector.p_spam_given_message(tis), 'p(spam|tis)')\n",
    "print(lp_spam_given_tis)"
   ]
  },
  {
   "cell_type": "markdown",
   "metadata": {
    "ein.tags": [
     "worksheet-0"
    ]
   },
   "source": [
    "This is just more double-checking to make sure that the functions I originally wrote match the hand-calculated answers."
   ]
  },
  {
   "cell_type": "code",
   "execution_count": 61,
   "metadata": {
    "autoscroll": "json-false",
    "collapsed": false,
    "ein.tags": [
     "worksheet-0"
    ]
   },
   "outputs": [],
   "source": [
    "actual = p_message_given_class(tis, ham_bag, lp_ham, k=1, sample_space=vocabulary)\n",
    "assert lp_tis_given_ham == actual, \"Expected: {0} Actual: {1}\".format(lp_tis_given_ham, actual)"
   ]
  },
  {
   "cell_type": "code",
   "execution_count": 62,
   "metadata": {
    "autoscroll": "json-false",
    "collapsed": false,
    "ein.tags": [
     "worksheet-0"
    ]
   },
   "outputs": [],
   "source": [
    "actual = p_spam_given_message(message=tis, k=1, sample_space=vocabulary)\n",
    "assert lp_spam_given_tis == actual , \"Expected: {0} Actual: {1}\".format(lp_spam_given_tis, actual)"
   ]
  },
  {
   "cell_type": "markdown",
   "metadata": {
    "ein.tags": [
     "worksheet-0"
    ]
   },
   "source": [
    "# Re-do"
   ]
  },
  {
   "cell_type": "markdown",
   "metadata": {
    "ein.tags": [
     "worksheet-0"
    ]
   },
   "source": [
    "Since the code ended up being so messy I'm going to re-do the last example using the class-based version only."
   ]
  },
  {
   "cell_type": "code",
   "execution_count": 64,
   "metadata": {
    "autoscroll": "json-false",
    "collapsed": false,
    "ein.tags": [
     "worksheet-0"
    ]
   },
   "outputs": [
    {
     "name": "stdout",
     "output_type": "stream",
     "text": [
      "p(spam|'today is secret') = 324/667\n"
     ]
    }
   ],
   "source": [
    "spam_detector = SpamDetector(spam=spam, ham=ham, k=1)\n",
    "message = 'today is secret'\n",
    "answer = spam_detector.p_spam_given_message(message)\n",
    "print(\"p(spam|'today is secret') = {0}\".format(answer))"
   ]
  },
  {
   "cell_type": "code",
   "execution_count": 65,
   "metadata": {
    "collapsed": true
   },
   "outputs": [],
   "source": [
    "assert_equal(lp_spam_given_tis, answer, \"p(spam|'today is secret')\")"
   ]
  }
 ],
 "metadata": {
  "kernelspec": {
   "display_name": "Python 3",
   "language": "python",
   "name": "python3"
  },
  "language_info": {
   "codemirror_mode": {
    "name": "ipython",
    "version": 3
   },
   "file_extension": ".py",
   "mimetype": "text/x-python",
   "name": "python",
   "nbconvert_exporter": "python",
   "pygments_lexer": "ipython3",
   "version": "3.4.3"
  },
     "nikola": {
   "category": "machine-learning",
   "date": "2016-06-19 21:53:05 UTC-07:00",
   "description": "Notes for a Udacity lecture.",
   "link": "",
   "slug": "baysian-spam-detector",
   "tags": "machine-learning",
   "title": "Baysian Spam Detector",
   "type": "text"
     },
  "name": "baysian-spam-detector.ipynb"
 },
 "nbformat": 4,
 "nbformat_minor": 0
}
